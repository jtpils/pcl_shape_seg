{
 "cells": [
  {
   "cell_type": "code",
   "execution_count": 1,
   "metadata": {},
   "outputs": [],
   "source": [
    "import shutil\n",
    "\n",
    "from pathlib import Path\n",
    "\n",
    "import matplotlib.pyplot as plt\n",
    "import numpy as np\n",
    "import open3d as o3\n",
    "\n",
    "from utils import *"
   ]
  },
  {
   "cell_type": "code",
   "execution_count": 2,
   "metadata": {},
   "outputs": [],
   "source": [
    "NUM_POINTS = 4096\n",
    "\n",
    "coordinate_system = create_coordinate_system()"
   ]
  },
  {
   "cell_type": "code",
   "execution_count": 3,
   "metadata": {},
   "outputs": [],
   "source": [
    "class Shape():\n",
    "    \n",
    "    clouds = []\n",
    "        \n",
    "    def __init__(self, o=(0, 0, 0)):\n",
    "        self.o = o  # Origin\n",
    "        self.points = o3.Vector3dVector(np.asarray([], dtype=np.float32))\n",
    "        self.colors = o3.Vector3dVector(np.asarray([], dtype=np.float32))\n",
    "        self.clouds = []\n",
    "    \n",
    "    def draw(self):\n",
    "        try:\n",
    "            o3.draw_geometries(list(flatten(self.clouds)))\n",
    "        except TypeError:\n",
    "            o3.draw_geometries([self.clouds])\n",
    "            \n",
    "    def combine_clouds(self, clouds):\n",
    "        points = []\n",
    "        colors = []\n",
    "        for cloud in list(flatten(clouds)):\n",
    "            points.append(cloud.points)\n",
    "            colors.append(cloud.colors)\n",
    "        points = np.concatenate(points)\n",
    "        colors = np.concatenate(colors)\n",
    "        cloud.points = o3.Vector3dVector(np.asarray(points, dtype=np.float32))\n",
    "        cloud.colors = o3.Vector3dVector(np.asarray(colors, dtype=np.float32))\n",
    "        return cloud\n",
    "    \n",
    "    def rotate(self, axis, theta):\n",
    "        for cloud in self.clouds:\n",
    "            points = np.copy(np.asarray(cloud.points))\n",
    "            points = [np.dot(rotation_matrix(axis, theta), x) for x in points]\n",
    "            cloud.points = o3.Vector3dVector(np.asarray(points, dtype=np.float32))\n",
    "            \n",
    "    def random_rotate(self):\n",
    "        q, r = np.linalg.qr(np.random.randn(3, 3))\n",
    "        for cloud in self.clouds:\n",
    "            points = np.asarray(cloud.points)\n",
    "            points = [q @ x for x in points]\n",
    "            cloud.points = o3.Vector3dVector(np.asarray(points, dtype=np.float32))"
   ]
  },
  {
   "cell_type": "code",
   "execution_count": 4,
   "metadata": {},
   "outputs": [],
   "source": [
    "class Sphere(Shape):\n",
    "    \n",
    "    def __init__(self, o=(0, 0, 0), r=1):\n",
    "        super().__init__(o)\n",
    "        self.r = r\n",
    "        self.create_points()\n",
    "        \n",
    "    def create_points(self):\n",
    "        u = np.random.uniform(0, 1, NUM_POINTS)\n",
    "        v = np.random.uniform(0, 1, NUM_POINTS)\n",
    "        thetas = 2 * np.pi * u\n",
    "        phis = np.arccos(2 * v - 1)\n",
    "\n",
    "        x = self.o[0] + self.r * np.cos(thetas) * np.sin(phis)\n",
    "        y = self.o[1] + self.r * np.sin(thetas) * np.sin(phis)\n",
    "        z = self.o[2] + self.r * np.cos(phis)\n",
    "        points = list(zip(x, y, z))\n",
    "        cloud = make_cloud(points, color=RED)\n",
    "        self.clouds.append(cloud)"
   ]
  },
  {
   "cell_type": "code",
   "execution_count": 5,
   "metadata": {},
   "outputs": [],
   "source": [
    "class Circle(Shape):\n",
    "    \n",
    "    def __init__(self, o=(0, 0, 0), r=1):\n",
    "        super().__init__(o)\n",
    "        self.r = r\n",
    "        self.create_points()\n",
    "\n",
    "    def create_points(self):\n",
    "        thetas = np.random.uniform(0, 2 * np.pi, NUM_POINTS)\n",
    "        phis = np.random.uniform(0, 2 * np.pi, NUM_POINTS)\n",
    "        l = self.r * np.sqrt(np.random.uniform(0, 1, NUM_POINTS))\n",
    "        x = self.o[0] + l * np.cos(thetas)\n",
    "        y = self.o[1] + np.array([0 for _ in range(NUM_POINTS)])\n",
    "        z = self.o[2] + l * np.sin(thetas)\n",
    "        points = list(zip(x, y, z))\n",
    "        cloud = make_cloud(points, color=BLUE)\n",
    "        self.clouds.append(cloud)"
   ]
  },
  {
   "cell_type": "code",
   "execution_count": 6,
   "metadata": {},
   "outputs": [],
   "source": [
    "class Cylinder(Shape):\n",
    "    \n",
    "    def __init__(self, o=(0, 0, 0), r=1, l=2):\n",
    "        super().__init__(o)\n",
    "        self.r = r\n",
    "        self.l = l\n",
    "        self.create_points()\n",
    "        \n",
    "    def create_points(self):\n",
    "        thetas = np.random.uniform(0, 2 * np.pi, NUM_POINTS)\n",
    "        x = self.o[0] + self.r * np.cos(thetas)\n",
    "        y = self.o[1] + np.random.uniform(0, self.l, NUM_POINTS)\n",
    "        z = self.o[2] + self.r * np.sin(thetas)\n",
    "        points = list(zip(x, y, z))\n",
    "        cylinder = make_cloud(points, color=BLUE)\n",
    "        bot_cap = Circle(o=self.o)\n",
    "        top_cap_origin = (self.o[0], self.o[1] + self.l, self.o[2])\n",
    "        top_cap = Circle(o=top_cap_origin)\n",
    "        cloud = self.combine_clouds([cylinder, bot_cap.clouds, top_cap.clouds])\n",
    "        self.clouds.append(cloud)\n",
    "        return cloud"
   ]
  },
  {
   "cell_type": "code",
   "execution_count": 7,
   "metadata": {},
   "outputs": [],
   "source": [
    "def is_in_sphere(point):\n",
    "    \"\"\"Assume a sphere radius of 3 and origin at (0, 0, 0). To update write a wrapper function.\"\"\"\n",
    "    x, y, z = point\n",
    "    return x ** 2 + y ** 2 + z ** 2 > 3 ** 2"
   ]
  },
  {
   "cell_type": "code",
   "execution_count": 8,
   "metadata": {},
   "outputs": [],
   "source": [
    "class Spike(Shape):\n",
    "    \n",
    "    def __init__(self, o=(0, 0, 0)):\n",
    "        super().__init__(o)\n",
    "        sphere_radius = 3\n",
    "        sphere = Sphere(r=sphere_radius)\n",
    "        cylinder = Cylinder(o=(0, sphere_radius - 0.2, 0), l=3)\n",
    "        cylinder_cloud = cylinder.clouds[0]\n",
    "        points = np.asarray(cylinder_cloud.points)\n",
    "        points = list(filter(is_in_sphere, points))\n",
    "        cylinder_cloud.points = o3.Vector3dVector(np.asarray(points, dtype=np.float32))\n",
    "        set_colors(cylinder_cloud, BLUE)\n",
    "        \n",
    "        cylinder.random_rotate()\n",
    "        self.clouds.append([sphere.clouds, cylinder.clouds])"
   ]
  },
  {
   "cell_type": "code",
   "execution_count": 9,
   "metadata": {},
   "outputs": [],
   "source": [
    "#spike = Spike()\n",
    "#spike.draw()"
   ]
  },
  {
   "cell_type": "code",
   "execution_count": 10,
   "metadata": {},
   "outputs": [],
   "source": [
    "def write(clouds, name, annotation):\n",
    "    for idx, cloud in enumerate(clouds):\n",
    "        o3.write_point_cloud(f'{annotation.as_posix()}/{name}_{idx}.xyzrgb', cloud)\n",
    "        \n",
    "    for file in annotation.iterdir():\n",
    "        filename = annotation / (file.stem + '.txt')\n",
    "        if not filename.is_file():\n",
    "            shutil.copyfile(file, filename)\n",
    "\n",
    "    for file in [f for f in annotation.iterdir() if f.suffix == '.xyzrgb']:\n",
    "        os.remove(file.as_posix())\n",
    "\n",
    "def write_out(directory):\n",
    "    spike = Spike()\n",
    "    spheres = spike.clouds[0][0]\n",
    "    cylinders = spike.clouds[0][1]\n",
    "\n",
    "    annotation = directory / 'annotation'\n",
    "    annotation.mkdir(exist_ok=True, parents=True)\n",
    "    write(spheres, 'sphere', annotation)\n",
    "    write(cylinders, 'cylinder', annotation)\n",
    "\n",
    "    filename = directory / (directory.stem + '.txt')\n",
    "    with open(filename.as_posix(), 'w') as outfile:\n",
    "        for file in Path(annotation).iterdir():\n",
    "            with open(file, 'r') as infile:\n",
    "                outfile.write(infile.read())"
   ]
  },
  {
   "cell_type": "code",
   "execution_count": 12,
   "metadata": {},
   "outputs": [
    {
     "name": "stdout",
     "output_type": "stream",
     "text": [
      "writing data/scenes/test/uniform/spike_0\n",
      "writing data/scenes/test/uniform/spike_1\n",
      "writing data/scenes/test/uniform/spike_2\n",
      "writing data/scenes/test/uniform/spike_3\n",
      "writing data/scenes/test/uniform/spike_4\n",
      "writing data/scenes/test/uniform/spike_5\n",
      "writing data/scenes/test/uniform/spike_6\n",
      "writing data/scenes/test/uniform/spike_7\n",
      "writing data/scenes/test/uniform/spike_8\n",
      "writing data/scenes/test/uniform/spike_9\n",
      "writing data/scenes/train/uniform/spike_0\n",
      "writing data/scenes/train/uniform/spike_1\n",
      "writing data/scenes/train/uniform/spike_2\n",
      "writing data/scenes/train/uniform/spike_3\n",
      "writing data/scenes/train/uniform/spike_4\n",
      "writing data/scenes/train/uniform/spike_5\n",
      "writing data/scenes/train/uniform/spike_6\n",
      "writing data/scenes/train/uniform/spike_7\n",
      "writing data/scenes/train/uniform/spike_8\n",
      "writing data/scenes/train/uniform/spike_9\n"
     ]
    }
   ],
   "source": [
    "for test_or_train in ['test', 'train']:\n",
    "    for idx in range(10):\n",
    "        directory = Path(data_dir) / 'scenes' / test_or_train / 'uniform' / f'spike_{idx}'\n",
    "        print(f'writing {directory.as_posix()}')\n",
    "        write_out(directory)"
   ]
  }
 ],
 "metadata": {
  "kernelspec": {
   "display_name": "Python 3",
   "language": "python",
   "name": "python3"
  },
  "language_info": {
   "codemirror_mode": {
    "name": "ipython",
    "version": 3
   },
   "file_extension": ".py",
   "mimetype": "text/x-python",
   "name": "python",
   "nbconvert_exporter": "python",
   "pygments_lexer": "ipython3",
   "version": "3.6.8"
  }
 },
 "nbformat": 4,
 "nbformat_minor": 2
}
